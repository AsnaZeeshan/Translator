{
 "cells": [
  {
   "cell_type": "code",
   "execution_count": 1,
   "id": "93b3a396",
   "metadata": {},
   "outputs": [
    {
     "name": "stdout",
     "output_type": "stream",
     "text": [
      "Requirement already satisfied: gTTs in c:\\users\\aksystems\\appdata\\local\\programs\\python\\python38\\lib\\site-packages (2.2.4)Note: you may need to restart the kernel to use updated packages.\n",
      "\n",
      "Requirement already satisfied: click in c:\\users\\aksystems\\appdata\\local\\programs\\python\\python38\\lib\\site-packages (from gTTs) (8.1.3)\n",
      "Requirement already satisfied: requests in c:\\users\\aksystems\\appdata\\local\\programs\\python\\python38\\lib\\site-packages (from gTTs) (2.28.1)\n",
      "Requirement already satisfied: six in c:\\users\\aksystems\\appdata\\local\\programs\\python\\python38\\lib\\site-packages (from gTTs) (1.16.0)\n",
      "Requirement already satisfied: colorama; platform_system == \"Windows\" in c:\\users\\aksystems\\appdata\\local\\programs\\python\\python38\\lib\\site-packages (from click->gTTs) (0.4.5)\n",
      "Requirement already satisfied: idna<4,>=2.5 in c:\\users\\aksystems\\appdata\\local\\programs\\python\\python38\\lib\\site-packages (from requests->gTTs) (2.10)\n",
      "Requirement already satisfied: urllib3<1.27,>=1.21.1 in c:\\users\\aksystems\\appdata\\local\\programs\\python\\python38\\lib\\site-packages (from requests->gTTs) (1.26.10)\n",
      "Requirement already satisfied: charset-normalizer<3,>=2 in c:\\users\\aksystems\\appdata\\local\\programs\\python\\python38\\lib\\site-packages (from requests->gTTs) (2.1.0)\n",
      "Requirement already satisfied: certifi>=2017.4.17 in c:\\users\\aksystems\\appdata\\local\\programs\\python\\python38\\lib\\site-packages (from requests->gTTs) (2022.6.15)\n"
     ]
    },
    {
     "name": "stderr",
     "output_type": "stream",
     "text": [
      "WARNING: You are using pip version 20.2.3; however, version 22.1.2 is available.\n",
      "You should consider upgrading via the 'c:\\users\\aksystems\\appdata\\local\\programs\\python\\python38\\python.exe -m pip install --upgrade pip' command.\n"
     ]
    }
   ],
   "source": [
    "pip install gTTs"
   ]
  },
  {
   "cell_type": "code",
   "execution_count": 2,
   "id": "3b35a453",
   "metadata": {},
   "outputs": [
    {
     "data": {
      "text/plain": [
       "1"
      ]
     },
     "execution_count": 2,
     "metadata": {},
     "output_type": "execute_result"
    }
   ],
   "source": [
    "from gtts import gTTS \n",
    "  \n",
    "import os \n",
    "mytext = 'Welcome to geeksforgeeks!'\n",
    "   \n",
    "language = 'en'\n",
    "  \n",
    "\n",
    "myobj = gTTS(text=mytext, lang=language, slow=True) \n",
    "   \n",
    "myobj.save(\"welcome.mp3\") \n",
    "  \n",
    "os.system(\"mpg321 welcome.mp3\") "
   ]
  },
  {
   "cell_type": "code",
   "execution_count": 3,
   "id": "6063bd16",
   "metadata": {},
   "outputs": [
    {
     "name": "stdout",
     "output_type": "stream",
     "text": [
      "Requirement already satisfied: pyttsx3 in c:\\users\\aksystems\\appdata\\local\\programs\\python\\python38\\lib\\site-packages (2.90)\n",
      "Requirement already satisfied: comtypes; platform_system == \"Windows\" in c:\\users\\aksystems\\appdata\\local\\programs\\python\\python38\\lib\\site-packages (from pyttsx3) (1.1.11)\n",
      "Requirement already satisfied: pypiwin32; platform_system == \"Windows\" in c:\\users\\aksystems\\appdata\\local\\programs\\python\\python38\\lib\\site-packages (from pyttsx3) (223)\n",
      "Requirement already satisfied: pywin32; platform_system == \"Windows\" in c:\\users\\aksystems\\appdata\\local\\programs\\python\\python38\\lib\\site-packages (from pyttsx3) (304)\n",
      "Note: you may need to restart the kernel to use updated packages.\n"
     ]
    },
    {
     "name": "stderr",
     "output_type": "stream",
     "text": [
      "WARNING: You are using pip version 20.2.3; however, version 22.1.2 is available.\n",
      "You should consider upgrading via the 'c:\\users\\aksystems\\appdata\\local\\programs\\python\\python38\\python.exe -m pip install --upgrade pip' command.\n"
     ]
    }
   ],
   "source": [
    "pip install pyttsx3"
   ]
  },
  {
   "cell_type": "code",
   "execution_count": 4,
   "id": "14891d2f",
   "metadata": {},
   "outputs": [],
   "source": [
    "import pyttsx3 \n",
    "  \n",
    "engine = pyttsx3.init() \n",
    "\n",
    "engine.say(\"this is a translator\") \n",
    "engine.say(\"write any sentence or word you want to translate\") \n",
    "engine.runAndWait()"
   ]
  },
  {
   "cell_type": "code",
   "execution_count": null,
   "id": "493bf624",
   "metadata": {},
   "outputs": [
    {
     "name": "stderr",
     "output_type": "stream",
     "text": [
      "Exception in Tkinter callback\n",
      "Traceback (most recent call last):\n",
      "  File \"c:\\users\\aksystems\\appdata\\local\\programs\\python\\python38\\lib\\tkinter\\__init__.py\", line 1892, in __call__\n",
      "    return self.func(*args)\n",
      "  File \"C:\\Users\\Aksystems\\AppData\\Local\\Temp\\ipykernel_4316\\4015379629.py\", line 22, in t\n",
      "    translation= translator.translate(word,dest='ja')\n",
      "  File \"c:\\users\\aksystems\\appdata\\local\\programs\\python\\python38\\lib\\site-packages\\googletrans\\client.py\", line 182, in translate\n",
      "    data = self._translate(text, dest, src, kwargs)\n",
      "  File \"c:\\users\\aksystems\\appdata\\local\\programs\\python\\python38\\lib\\site-packages\\googletrans\\client.py\", line 78, in _translate\n",
      "    token = self.token_acquirer.do(text)\n",
      "  File \"c:\\users\\aksystems\\appdata\\local\\programs\\python\\python38\\lib\\site-packages\\googletrans\\gtoken.py\", line 194, in do\n",
      "    self._update()\n",
      "  File \"c:\\users\\aksystems\\appdata\\local\\programs\\python\\python38\\lib\\site-packages\\googletrans\\gtoken.py\", line 62, in _update\n",
      "    code = self.RE_TKK.search(r.text).group(1).replace('var ', '')\n",
      "AttributeError: 'NoneType' object has no attribute 'group'\n",
      "Exception in Tkinter callback\n",
      "Traceback (most recent call last):\n",
      "  File \"c:\\users\\aksystems\\appdata\\local\\programs\\python\\python38\\lib\\tkinter\\__init__.py\", line 1892, in __call__\n",
      "    return self.func(*args)\n",
      "  File \"C:\\Users\\Aksystems\\AppData\\Local\\Temp\\ipykernel_4316\\4015379629.py\", line 22, in t\n",
      "    translation= translator.translate(word,dest='ja')\n",
      "  File \"c:\\users\\aksystems\\appdata\\local\\programs\\python\\python38\\lib\\site-packages\\googletrans\\client.py\", line 182, in translate\n",
      "    data = self._translate(text, dest, src, kwargs)\n",
      "  File \"c:\\users\\aksystems\\appdata\\local\\programs\\python\\python38\\lib\\site-packages\\googletrans\\client.py\", line 78, in _translate\n",
      "    token = self.token_acquirer.do(text)\n",
      "  File \"c:\\users\\aksystems\\appdata\\local\\programs\\python\\python38\\lib\\site-packages\\googletrans\\gtoken.py\", line 194, in do\n",
      "    self._update()\n",
      "  File \"c:\\users\\aksystems\\appdata\\local\\programs\\python\\python38\\lib\\site-packages\\googletrans\\gtoken.py\", line 62, in _update\n",
      "    code = self.RE_TKK.search(r.text).group(1).replace('var ', '')\n",
      "AttributeError: 'NoneType' object has no attribute 'group'\n",
      "Exception in Tkinter callback\n",
      "Traceback (most recent call last):\n",
      "  File \"c:\\users\\aksystems\\appdata\\local\\programs\\python\\python38\\lib\\tkinter\\__init__.py\", line 1892, in __call__\n",
      "    return self.func(*args)\n",
      "  File \"C:\\Users\\Aksystems\\AppData\\Local\\Temp\\ipykernel_4316\\4015379629.py\", line 22, in t\n",
      "    translation= translator.translate(word,dest='ja')\n",
      "  File \"c:\\users\\aksystems\\appdata\\local\\programs\\python\\python38\\lib\\site-packages\\googletrans\\client.py\", line 182, in translate\n",
      "    data = self._translate(text, dest, src, kwargs)\n",
      "  File \"c:\\users\\aksystems\\appdata\\local\\programs\\python\\python38\\lib\\site-packages\\googletrans\\client.py\", line 78, in _translate\n",
      "    token = self.token_acquirer.do(text)\n",
      "  File \"c:\\users\\aksystems\\appdata\\local\\programs\\python\\python38\\lib\\site-packages\\googletrans\\gtoken.py\", line 194, in do\n",
      "    self._update()\n",
      "  File \"c:\\users\\aksystems\\appdata\\local\\programs\\python\\python38\\lib\\site-packages\\googletrans\\gtoken.py\", line 62, in _update\n",
      "    code = self.RE_TKK.search(r.text).group(1).replace('var ', '')\n",
      "AttributeError: 'NoneType' object has no attribute 'group'\n",
      "Exception in Tkinter callback\n",
      "Traceback (most recent call last):\n",
      "  File \"c:\\users\\aksystems\\appdata\\local\\programs\\python\\python38\\lib\\tkinter\\__init__.py\", line 1892, in __call__\n",
      "    return self.func(*args)\n",
      "  File \"C:\\Users\\Aksystems\\AppData\\Local\\Temp\\ipykernel_4316\\4015379629.py\", line 22, in t\n",
      "    translation= translator.translate(word,dest='ja')\n",
      "  File \"c:\\users\\aksystems\\appdata\\local\\programs\\python\\python38\\lib\\site-packages\\googletrans\\client.py\", line 182, in translate\n",
      "    data = self._translate(text, dest, src, kwargs)\n",
      "  File \"c:\\users\\aksystems\\appdata\\local\\programs\\python\\python38\\lib\\site-packages\\googletrans\\client.py\", line 78, in _translate\n",
      "    token = self.token_acquirer.do(text)\n",
      "  File \"c:\\users\\aksystems\\appdata\\local\\programs\\python\\python38\\lib\\site-packages\\googletrans\\gtoken.py\", line 194, in do\n",
      "    self._update()\n",
      "  File \"c:\\users\\aksystems\\appdata\\local\\programs\\python\\python38\\lib\\site-packages\\googletrans\\gtoken.py\", line 62, in _update\n",
      "    code = self.RE_TKK.search(r.text).group(1).replace('var ', '')\n",
      "AttributeError: 'NoneType' object has no attribute 'group'\n",
      "Exception in Tkinter callback\n",
      "Traceback (most recent call last):\n",
      "  File \"c:\\users\\aksystems\\appdata\\local\\programs\\python\\python38\\lib\\tkinter\\__init__.py\", line 1892, in __call__\n",
      "    return self.func(*args)\n",
      "  File \"C:\\Users\\Aksystems\\AppData\\Local\\Temp\\ipykernel_4316\\4015379629.py\", line 22, in t\n",
      "    translation= translator.translate(word,dest='ja')\n",
      "  File \"c:\\users\\aksystems\\appdata\\local\\programs\\python\\python38\\lib\\site-packages\\googletrans\\client.py\", line 182, in translate\n",
      "    data = self._translate(text, dest, src, kwargs)\n",
      "  File \"c:\\users\\aksystems\\appdata\\local\\programs\\python\\python38\\lib\\site-packages\\googletrans\\client.py\", line 78, in _translate\n",
      "    token = self.token_acquirer.do(text)\n",
      "  File \"c:\\users\\aksystems\\appdata\\local\\programs\\python\\python38\\lib\\site-packages\\googletrans\\gtoken.py\", line 194, in do\n",
      "    self._update()\n",
      "  File \"c:\\users\\aksystems\\appdata\\local\\programs\\python\\python38\\lib\\site-packages\\googletrans\\gtoken.py\", line 62, in _update\n",
      "    code = self.RE_TKK.search(r.text).group(1).replace('var ', '')\n",
      "AttributeError: 'NoneType' object has no attribute 'group'\n",
      "Exception in Tkinter callback\n",
      "Traceback (most recent call last):\n",
      "  File \"c:\\users\\aksystems\\appdata\\local\\programs\\python\\python38\\lib\\tkinter\\__init__.py\", line 1892, in __call__\n",
      "    return self.func(*args)\n",
      "  File \"C:\\Users\\Aksystems\\AppData\\Local\\Temp\\ipykernel_4316\\4015379629.py\", line 22, in t\n",
      "    translation= translator.translate(word,dest='ja')\n",
      "  File \"c:\\users\\aksystems\\appdata\\local\\programs\\python\\python38\\lib\\site-packages\\googletrans\\client.py\", line 182, in translate\n",
      "    data = self._translate(text, dest, src, kwargs)\n",
      "  File \"c:\\users\\aksystems\\appdata\\local\\programs\\python\\python38\\lib\\site-packages\\googletrans\\client.py\", line 78, in _translate\n",
      "    token = self.token_acquirer.do(text)\n",
      "  File \"c:\\users\\aksystems\\appdata\\local\\programs\\python\\python38\\lib\\site-packages\\googletrans\\gtoken.py\", line 194, in do\n",
      "    self._update()\n",
      "  File \"c:\\users\\aksystems\\appdata\\local\\programs\\python\\python38\\lib\\site-packages\\googletrans\\gtoken.py\", line 62, in _update\n",
      "    code = self.RE_TKK.search(r.text).group(1).replace('var ', '')\n",
      "AttributeError: 'NoneType' object has no attribute 'group'\n"
     ]
    }
   ],
   "source": [
    "from tkinter import *\n",
    "from tkinter import ttk\n",
    "from googletrans import Translator\n",
    "import pyttsx3 \n",
    "import time\n",
    "translator = Tk() \n",
    "translator.title(\"translator\")\n",
    "translator.geometry('400x400')\n",
    "Label(translator, text='write here:',font=('Comic Sans MS',20)).grid(row=0,column=0) \n",
    "e1 = Entry(translator) \n",
    "e1.grid(row=0, column=1) \n",
    "n =StringVar() \n",
    "Label(translator,text=\"enter your language\",font=('Comic Sans MS',20)).grid(row=2,column=0)\n",
    "lchose=ttk.Combobox(translator, width = 27, textvariable = n)\n",
    "lchose['values']=('german*','japanese','french*','swedish','urdu','spanish','Italian','Russian')\n",
    "lchose.grid(row=2,column=1)\n",
    "\n",
    "def t():\n",
    "    word=e1.get()\n",
    "    translator= Translator(service_urls=[\"translate.google.com\"])\n",
    "    if lchose.get()=='japanese':\n",
    "        translation= translator.translate(word,dest='ja')\n",
    "    elif lchose.get()=='german*':\n",
    "        translation= translator.translate(word,dest='de')\n",
    "    elif lchose.get()=='french*':\n",
    "        translation= translator.translate(word,dest='fr')\n",
    "    elif lchose.get()=='swedish':\n",
    "        translation= translator.translate(word,dest='gu')\n",
    "    elif lchose.get()=='urdu':\n",
    "        translation= translator.translate(word,dest='hi')\n",
    "    elif lchose.get()=='Italian':\n",
    "        translation= translator.translate(word,dest='it')\n",
    "    elif lchose.get()=='spanish':\n",
    "        translation= translator.translate(word,dest='kn')\n",
    "    elif lchose.get()=='Russian':\n",
    "        translation= translator.translate(word,dest='ru')\n",
    "    x=translation.text\n",
    "    lbl=Label(translator,text=f'translated text is :{translation.text}',bg='yellow')\n",
    "    lbl.grid(row=20,column=1)\n",
    "    \n",
    "    engine = pyttsx3.init()\n",
    "    engine.setProperty('rate', 150) \n",
    "    time.sleep(10)\n",
    "    engine.say(x) \n",
    "    engine.runAndWait() \n",
    "    \n",
    "    \n",
    "    \n",
    "btn=Button(translator,text=\"translate\",bg=\"blue\",fg=\"white\",command=t)\n",
    "btn.grid(row=10,column=1)\n",
    "mainloop() "
   ]
  },
  {
   "cell_type": "code",
   "execution_count": null,
   "id": "298bf437",
   "metadata": {},
   "outputs": [],
   "source": []
  }
 ],
 "metadata": {
  "kernelspec": {
   "display_name": "Python 3 (ipykernel)",
   "language": "python",
   "name": "python3"
  },
  "language_info": {
   "codemirror_mode": {
    "name": "ipython",
    "version": 3
   },
   "file_extension": ".py",
   "mimetype": "text/x-python",
   "name": "python",
   "nbconvert_exporter": "python",
   "pygments_lexer": "ipython3",
   "version": "3.8.9"
  }
 },
 "nbformat": 4,
 "nbformat_minor": 5
}
